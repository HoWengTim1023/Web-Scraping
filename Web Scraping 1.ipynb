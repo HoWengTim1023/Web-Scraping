{
 "cells": [
  {
   "cell_type": "markdown",
   "id": "a3810237",
   "metadata": {},
   "source": [
    "This sheet only show the web scraping for one cluster only (with looping function)"
   ]
  },
  {
   "cell_type": "markdown",
   "id": "67c45750",
   "metadata": {},
   "source": [
    "# Login the Website"
   ]
  },
  {
   "cell_type": "code",
   "execution_count": 69,
   "id": "1184d272",
   "metadata": {},
   "outputs": [],
   "source": [
    "from selenium import webdriver\n",
    "from selenium.webdriver.common.keys import Keys\n",
    "from selenium.webdriver.common.by import By\n",
    "from selenium.webdriver.common.action_chains import ActionChains\n",
    "from selenium.webdriver.support.ui import WebDriverWait\n",
    "from selenium.webdriver.support import expected_conditions as EC\n",
    "import time\n",
    "import pandas as pd\n",
    "from openpyxl import Workbook\n",
    "from openpyxl.drawing.image import Image as ExcelImage\n",
    "from PIL import Image\n",
    "from openpyxl.drawing.image import Image as XLImage"
   ]
  },
  {
   "cell_type": "code",
   "execution_count": 70,
   "id": "9ccb118e",
   "metadata": {},
   "outputs": [],
   "source": [
    "website = 'https://app.chainalysis.com/login?redirect=reactor'"
   ]
  },
  {
   "cell_type": "code",
   "execution_count": 71,
   "id": "2b23830c",
   "metadata": {},
   "outputs": [],
   "source": [
    "# Initialize the Chrome browser\n",
    "\n",
    "cService = webdriver.ChromeService(executable_path=r'D:\\Desktop\\Ah Tim\\Web Scraping\\chromedriver-win64\\chromedriver.exe')"
   ]
  },
  {
   "cell_type": "code",
   "execution_count": 72,
   "id": "c48c9650",
   "metadata": {},
   "outputs": [],
   "source": [
    "driver = webdriver.Chrome(service = cService)"
   ]
  },
  {
   "cell_type": "code",
   "execution_count": 73,
   "id": "b8cf3628",
   "metadata": {},
   "outputs": [],
   "source": [
    "driver.get(website)\n",
    "driver.maximize_window()"
   ]
  },
  {
   "cell_type": "code",
   "execution_count": 74,
   "id": "b8fc48bd",
   "metadata": {},
   "outputs": [],
   "source": [
    "# Replace with your actual username and password\n",
    "your_username = 'check@okx.com'\n",
    "your_password = 'trkkcyngdu'"
   ]
  },
  {
   "cell_type": "code",
   "execution_count": 75,
   "id": "df0cb45e",
   "metadata": {},
   "outputs": [],
   "source": [
    "username_input = WebDriverWait(driver, 10).until(\n",
    "        EC.presence_of_element_located((By.CLASS_NAME, 'MuiFilledInput-input'))\n",
    "    )"
   ]
  },
  {
   "cell_type": "code",
   "execution_count": 76,
   "id": "50b4784d",
   "metadata": {},
   "outputs": [],
   "source": [
    "username_input.send_keys(your_username)"
   ]
  },
  {
   "cell_type": "code",
   "execution_count": 77,
   "id": "59e02df8",
   "metadata": {
    "scrolled": true
   },
   "outputs": [],
   "source": [
    "# Wait for the \"Continue\" button to be present\n",
    "continue_button = WebDriverWait(driver, 10).until(\n",
    "        EC.presence_of_element_located((By.CLASS_NAME, 'MuiButton-containedPrimary'))\n",
    "    )"
   ]
  },
  {
   "cell_type": "code",
   "execution_count": 78,
   "id": "9eb6110c",
   "metadata": {},
   "outputs": [],
   "source": [
    "# Click on the \"Continue\" button\n",
    "continue_button.click()"
   ]
  },
  {
   "cell_type": "code",
   "execution_count": 79,
   "id": "c07f2f8b",
   "metadata": {},
   "outputs": [],
   "source": [
    "password_input = WebDriverWait(driver, 10).until(\n",
    "        EC.presence_of_element_located((By.ID, 'password'))\n",
    "    )"
   ]
  },
  {
   "cell_type": "code",
   "execution_count": 80,
   "id": "8d866541",
   "metadata": {},
   "outputs": [],
   "source": [
    "password_input.send_keys(your_password)"
   ]
  },
  {
   "cell_type": "code",
   "execution_count": 81,
   "id": "c94e7cdd",
   "metadata": {},
   "outputs": [],
   "source": [
    "# Find and click the \"Continue\" button (assuming it's a type=\"submit\" button)\n",
    "continue_button = driver.find_element(By.XPATH, '//button[@type=\"submit\" and contains(text(), \"Continue\")]')\n",
    "continue_button.click()"
   ]
  },
  {
   "cell_type": "markdown",
   "id": "00c7e985",
   "metadata": {},
   "source": [
    "# ENTER THE CATEGORY THAT YOU WANT"
   ]
  },
  {
   "cell_type": "code",
   "execution_count": 82,
   "id": "dc37a638",
   "metadata": {},
   "outputs": [],
   "source": [
    "graphs_element = WebDriverWait(driver, 10).until(\n",
    "        EC.element_to_be_clickable((By.XPATH, '//span[contains(text(), \"Graphs\")]'))\n",
    "    )\n",
    "\n",
    "# Click on the \"Graphs\" element\n",
    "graphs_element.click()\n"
   ]
  },
  {
   "cell_type": "code",
   "execution_count": 83,
   "id": "00f1587a",
   "metadata": {},
   "outputs": [],
   "source": [
    "new_graph_link = WebDriverWait(driver, 10).until(\n",
    "        EC.element_to_be_clickable((By.XPATH, '//span[contains(text(), \"New graph\")]/ancestor::a'))\n",
    "    )\n",
    "\n",
    "# Click on the \"Graphs\" element\n",
    "new_graph_link.click()\n"
   ]
  },
  {
   "cell_type": "code",
   "execution_count": 84,
   "id": "8a0025aa",
   "metadata": {},
   "outputs": [],
   "source": [
    "eye = WebDriverWait(driver, 10).until(\n",
    "        EC.element_to_be_clickable((By.CSS_SELECTOR, 'svg.MuiSvgIcon-root[data-testid=\"CsClusterOutlinedIcon\"]'))\n",
    "    )\n",
    "\n",
    "# Click on the SVG element\n",
    "eye.click()"
   ]
  },
  {
   "cell_type": "code",
   "execution_count": 85,
   "id": "7c7337fd",
   "metadata": {},
   "outputs": [],
   "source": [
    "scam_element = WebDriverWait(driver, 10).until(\n",
    "        EC.element_to_be_clickable((By.XPATH, '//p[contains(text(), \"Scam\")]'))\n",
    "    )\n",
    "\n",
    "# Click on the \"Scam\" element\n",
    "scam_element.click()"
   ]
  },
  {
   "cell_type": "code",
   "execution_count": 86,
   "id": "d94d8aca",
   "metadata": {},
   "outputs": [],
   "source": [
    "checkboxes = driver.find_elements(By.CSS_SELECTOR, 'span.tooltip-content-placeholder csui-checkbox')\n",
    "\n",
    "checkbox_element = WebDriverWait(driver, 10).until(\n",
    "        EC.element_to_be_clickable((By.CSS_SELECTOR, 'csui-checkbox.filtered-cluster-checkbox'))\n",
    "    )\n",
    "\n",
    "checkbox_element.click()"
   ]
  },
  {
   "cell_type": "code",
   "execution_count": 87,
   "id": "a9b5db38",
   "metadata": {},
   "outputs": [],
   "source": [
    "label_element = WebDriverWait(driver, 10).until(\n",
    "        EC.presence_of_element_located((By.CSS_SELECTOR, 'cs-ngx-cluster-label span'))\n",
    "    )\n",
    "\n",
    "label_element.click()"
   ]
  },
  {
   "cell_type": "code",
   "execution_count": 88,
   "id": "0bae14c7",
   "metadata": {},
   "outputs": [],
   "source": [
    "xbutton_element = WebDriverWait(driver, 10).until(\n",
    "        EC.element_to_be_clickable((By.CSS_SELECTOR, 'button.csui-icon-button'))\n",
    "    )\n",
    "\n",
    "# Click on the SVG element\n",
    "xbutton_element.click()"
   ]
  },
  {
   "cell_type": "code",
   "execution_count": null,
   "id": "7d3d99c9",
   "metadata": {},
   "outputs": [],
   "source": []
  },
  {
   "cell_type": "markdown",
   "id": "bd29e7cd",
   "metadata": {},
   "source": [
    "# START WEB SCRAPING"
   ]
  },
  {
   "cell_type": "code",
   "execution_count": 89,
   "id": "374facba",
   "metadata": {},
   "outputs": [],
   "source": [
    "# Wait for the h2 element with data-testid 'entity-title' to be present\n",
    "h2_element = WebDriverWait(driver, 10).until(\n",
    "        EC.presence_of_element_located((By.CSS_SELECTOR, 'h2[data-testid=\"entity-title\"]'))\n",
    "    )"
   ]
  },
  {
   "cell_type": "code",
   "execution_count": 90,
   "id": "24528a2b",
   "metadata": {},
   "outputs": [
    {
     "name": "stdout",
     "output_type": "stream",
     "text": [
      "Xvideos sextortion scam 18z5c6T\n"
     ]
    }
   ],
   "source": [
    "# Extract the text from the h2 element\n",
    "cluster = h2_element.text\n",
    "print(cluster)"
   ]
  },
  {
   "cell_type": "code",
   "execution_count": 91,
   "id": "e53eb045",
   "metadata": {},
   "outputs": [],
   "source": [
    "h2_element.click()"
   ]
  },
  {
   "cell_type": "code",
   "execution_count": 92,
   "id": "36c1d0bd",
   "metadata": {},
   "outputs": [
    {
     "name": "stdout",
     "output_type": "stream",
     "text": [
      "Xvideos sextortion scam 18z5c6T\n"
     ]
    }
   ],
   "source": [
    "span_element = WebDriverWait(driver, 10).until(\n",
    "        EC.presence_of_element_located((By.CSS_SELECTOR, 'span.MuiTypography-inputText'))\n",
    "    )\n",
    "\n",
    "    # Extract the text from the span element\n",
    "chainalysis_name = span_element.text\n",
    "print(chainalysis_name)"
   ]
  },
  {
   "cell_type": "code",
   "execution_count": 93,
   "id": "d11f1925",
   "metadata": {},
   "outputs": [
    {
     "name": "stdout",
     "output_type": "stream",
     "text": [
      "1122NYbAT2KkZDZ5TFvGy4D2Ut7eYfx4en\n"
     ]
    }
   ],
   "source": [
    "span_element = WebDriverWait(driver, 10).until(\n",
    "        EC.presence_of_element_located((By.CSS_SELECTOR, 'span.tooltip-content-placeholder span span'))\n",
    "    )\n",
    "\n",
    "    # Extract the text from the span element\n",
    "root_address = span_element.text\n",
    "print(root_address)"
   ]
  },
  {
   "cell_type": "code",
   "execution_count": 94,
   "id": "15eafd3f",
   "metadata": {},
   "outputs": [],
   "source": [
    "xbutton_element = WebDriverWait(driver, 10).until(\n",
    "        EC.element_to_be_clickable((By.XPATH, '/html/body/div[4]/div[3]/div/form/h3/button'))\n",
    "    )"
   ]
  },
  {
   "cell_type": "code",
   "execution_count": 95,
   "id": "e9593be0",
   "metadata": {},
   "outputs": [],
   "source": [
    "xbutton_element.click()"
   ]
  },
  {
   "cell_type": "code",
   "execution_count": 96,
   "id": "00c4428d",
   "metadata": {},
   "outputs": [],
   "source": [
    "# Assuming 'driver' is your WebDriver instance\n",
    "#elements = driver.find_elements(By.CLASS_NAME, 'formattedValue')\n",
    "\n",
    "# Check if the second element exists\n",
    "#if len(elements) > 1:\n",
    "    # Extract the text of the second element\n",
    "    #value = elements[0].text\n",
    "    #print(\"Balance:\", value)\n",
    "#else:\n",
    "    #print(\"Second element not found.\")"
   ]
  },
  {
   "cell_type": "code",
   "execution_count": 97,
   "id": "f309366b",
   "metadata": {},
   "outputs": [],
   "source": [
    "# Assuming 'driver' is your WebDriver instance\n",
    "#elements = driver.find_elements(By.CLASS_NAME, 'formattedValue')\n",
    "\n",
    "# Check if the second element exists\n",
    "#if len(elements) > 1:\n",
    "    # Extract the text of the second element\n",
    "    #value = elements[1].text\n",
    "    #print(\"Sent:\", value)\n",
    "#else:\n",
    "    #print(\"Second element not found.\")"
   ]
  },
  {
   "cell_type": "code",
   "execution_count": 98,
   "id": "ca2ac9b8",
   "metadata": {},
   "outputs": [],
   "source": [
    "# Assuming 'driver' is your WebDriver instance\n",
    "#elements = driver.find_elements(By.CLASS_NAME, 'formattedValue')\n",
    "\n",
    "# Check if the second element exists\n",
    "#if len(elements) > 1:\n",
    "    # Extract the text of the second element\n",
    "    #value = elements[2].text\n",
    "    #print(\"Received:\", value)\n",
    "#else:\n",
    "    #print(\"Second element not found.\")"
   ]
  },
  {
   "cell_type": "code",
   "execution_count": 99,
   "id": "fba093ae",
   "metadata": {},
   "outputs": [
    {
     "name": "stdout",
     "output_type": "stream",
     "text": [
      "Extracted data dictionary: {'Balance': '0.00036\\n BTC', 'Sent': '27.2914\\n BTC', 'Received': '27.3086\\n BTC', 'Total fees': '0.016826\\n BTC', 'Transfers': '173', 'Withdrawals': '29', 'Deposits': '144', 'Addresses': '33'}\n"
     ]
    }
   ],
   "source": [
    "# Assuming 'driver' is your WebDriver instance\n",
    "elements = driver.find_elements(By.CSS_SELECTOR, '.grid-y.text-right .cell.mono.ellipsis')\n",
    "\n",
    "# Define keys for each value\n",
    "keys = ['Balance', 'Sent', 'Received', 'Total fees', 'Transfers', 'Withdrawals', 'Deposits', 'Addresses']\n",
    "\n",
    "# Create a dictionary with keys and corresponding values\n",
    "data_dict = dict(zip(keys, [element.text for element in elements]))\n",
    "\n",
    "print(\"Extracted data dictionary:\", data_dict)"
   ]
  },
  {
   "cell_type": "code",
   "execution_count": 100,
   "id": "489bc4fd",
   "metadata": {},
   "outputs": [],
   "source": [
    "transfers_link = WebDriverWait(driver, 10).until(\n",
    "    EC.element_to_be_clickable((By.XPATH, '//a[contains(@href, \"/graph/new/cluster/asset-v2:bip122:000000000019d6689c085ae165831e93:native/1JujJi8h3AsPJpEnQX5pew2g5VsEHAqMVe/transfers\")]'))\n",
    ")\n",
    "\n",
    "# Click on the \"Transfers\" link\n",
    "transfers_link.click()"
   ]
  },
  {
   "cell_type": "code",
   "execution_count": 101,
   "id": "bdeb7019",
   "metadata": {},
   "outputs": [],
   "source": [
    "# Find the element\n",
    "element = driver.find_element(By.CLASS_NAME, 'icon-collapse')\n",
    "\n",
    "# Perform the click action\n",
    "ActionChains(driver).click(element).perform()"
   ]
  },
  {
   "cell_type": "code",
   "execution_count": 102,
   "id": "c4bbc696",
   "metadata": {},
   "outputs": [],
   "source": [
    "# Wait for the element to be clickable\n",
    "chevron_element = WebDriverWait(driver, 20).until(\n",
    "        EC.element_to_be_clickable((By.CLASS_NAME, 'icon-chevron-right'))\n",
    "    )\n",
    "\n",
    "    # Click on the chevron element\n",
    "chevron_element.click()"
   ]
  },
  {
   "cell_type": "code",
   "execution_count": 103,
   "id": "d65f8480",
   "metadata": {},
   "outputs": [
    {
     "name": "stdout",
     "output_type": "stream",
     "text": [
      "Time Text: 05/31/2023 9:07 AM\n"
     ]
    }
   ],
   "source": [
    "time.sleep(3)  # Adjust the sleep duration based on your page load time\n",
    "time_element = driver.find_element(By.CSS_SELECTOR, 'div.shrink span.mono')\n",
    "time_text = time_element.get_attribute(\"innerText\")\n",
    "print(\"Time Text:\", time_text)\n"
   ]
  },
  {
   "cell_type": "code",
   "execution_count": 104,
   "id": "7ed03bb1",
   "metadata": {},
   "outputs": [
    {
     "name": "stdout",
     "output_type": "stream",
     "text": [
      "['33']\n"
     ]
    }
   ],
   "source": [
    "int(data_dict.get('Addresses', 0)) > 10\n",
    "output_list = [data_dict['Addresses']]\n",
    "print(output_list)"
   ]
  },
  {
   "cell_type": "code",
   "execution_count": 105,
   "id": "a638aa2a",
   "metadata": {},
   "outputs": [
    {
     "name": "stdout",
     "output_type": "stream",
     "text": [
      "['33']\n"
     ]
    }
   ],
   "source": [
    "# Check the condition for 'Addresses'\n",
    "if int(data_dict.get('Addresses', 0)) > 10:\n",
    "    addresses_content_list = [data_dict['Addresses']]\n",
    "    print(addresses_content_list)\n",
    "else:\n",
    "    address_link_element = WebDriverWait(driver, 10).until(\n",
    "        EC.element_to_be_clickable(address_link_locator))\n",
    "    \n",
    "    address_link_element.click()\n",
    "    addresses_locator = (By.CSS_SELECTOR, 'span.copy-text.ellipsis.ng-star-inserted')\n",
    "    addresses_elements = WebDriverWait(driver, 10).until(\n",
    "        EC.visibility_of_all_elements_located(addresses_locator))\n",
    "    addresses_content_list = [element.text.strip() for element in addresses_elements]\n",
    "    print(\"Addresses Content List:\", addresses_content_list)\n"
   ]
  },
  {
   "cell_type": "code",
   "execution_count": 106,
   "id": "9f22f54b",
   "metadata": {},
   "outputs": [
    {
     "name": "stdout",
     "output_type": "stream",
     "text": [
      "['33']\n"
     ]
    }
   ],
   "source": [
    "print(addresses_content_list)"
   ]
  },
  {
   "cell_type": "code",
   "execution_count": 107,
   "id": "d18bf8f7",
   "metadata": {},
   "outputs": [],
   "source": [
    "# Replace 'your_locator_here' with the appropriate locator for the addresses span\n",
    "#addresses_locator = (By.CSS_SELECTOR, 'span.copy-text.ellipsis.ng-star-inserted')\n",
    "\n",
    "# Wait for the elements to be visible\n",
    "#addresses_elements = WebDriverWait(driver, 10).until(\n",
    "    #EC.visibility_of_all_elements_located(addresses_locator)\n",
    "#)\n",
    "\n",
    "# Get the text content of all the addresses spans\n",
    "#addresses_content_list = [element.text.strip() for element in addresses_elements]\n",
    "\n",
    "#print(\"Addresses Content List:\", addresses_content_list)"
   ]
  },
  {
   "cell_type": "code",
   "execution_count": 108,
   "id": "3127f710",
   "metadata": {},
   "outputs": [],
   "source": [
    "# Replace 'your_locator_here' with the appropriate locator for the OSINT link\n",
    "#osint_link_locator = (By.CSS_SELECTOR, 'a.foundation-a[href*=\"/osint\"]')\n",
    "\n",
    "# Wait for the OSINT link to be clickable with an extended waiting time (e.g., 20 seconds)\n",
    "#osint_link = WebDriverWait(driver, 20).until(\n",
    "    #EC.element_to_be_clickable(osint_link_locator)\n",
    "#)\n",
    "\n",
    "# Click on the OSINT link\n",
    "#osint_link.click()\n"
   ]
  },
  {
   "cell_type": "code",
   "execution_count": 109,
   "id": "1192be06",
   "metadata": {},
   "outputs": [],
   "source": [
    "# Replace 'your_locator_here' with the appropriate locator for the SVG element\n",
    "#svg_locator = (By.CSS_SELECTOR, 'svg.MuiSvgIcon-root.css-1onxyik[data-testid=\"FilterAltOutlinedIcon\"]')\n",
    "\n",
    "# Wait for the SVG element to be clickable with an extended waiting time (e.g., 20 seconds)\n",
    "#svg_element = WebDriverWait(driver, 20).until(\n",
    "    #EC.element_to_be_clickable(svg_locator)\n",
    "#)\n",
    "\n",
    "# Click on the SVG element\n",
    "#svg_element.click()\n"
   ]
  },
  {
   "cell_type": "code",
   "execution_count": 110,
   "id": "22948a0a",
   "metadata": {},
   "outputs": [],
   "source": [
    "# Replace 'your_locator_here' with the appropriate locator for the elements\n",
    "#elements_locator = (By.CSS_SELECTOR, '.MuiTypography-root.MuiTypography-body2.MuiFormControlLabel-label.css-me8ks0')\n",
    "\n",
    "# Wait for the elements to be present on the page\n",
    "#elements = WebDriverWait(driver, 10).until(\n",
    "    #EC.presence_of_all_elements_located(elements_locator)\n",
    "#)\n",
    "\n",
    "# Create a list of texts excluding \"Select all\"\n",
    "#text_list = [element.text for element in elements if element.text != \"Select all\"]\n",
    "\n",
    "# Print the resulting list\n",
    "#print(text_list)"
   ]
  },
  {
   "cell_type": "code",
   "execution_count": 111,
   "id": "f45f661f",
   "metadata": {},
   "outputs": [
    {
     "name": "stdout",
     "output_type": "stream",
     "text": [
      "[]\n"
     ]
    }
   ],
   "source": [
    "from selenium.webdriver.common.by import By\n",
    "from selenium.webdriver.support.ui import WebDriverWait\n",
    "from selenium.webdriver.support import expected_conditions as EC\n",
    "from selenium.common.exceptions import TimeoutException\n",
    "\n",
    "# Replace 'your_locator_here' with the appropriate locator for the OSINT link\n",
    "osint_link_locator = (By.CSS_SELECTOR, 'a[href*=\"/osint\"]')\n",
    "\n",
    "try:\n",
    "    # Wait for the OSINT link to be present on the page\n",
    "    osint_link = WebDriverWait(driver, 10).until(\n",
    "        EC.presence_of_element_located(osint_link_locator)\n",
    "    )\n",
    "\n",
    "    # If the link exists, click on it or perform any other actions you want\n",
    "    osint_link.click()\n",
    "\n",
    "    # Now you can scrape the data related to OSINT\n",
    "    # Replace 'your_locator_here' with the appropriate locator for the SVG element\n",
    "    svg_locator = (By.CSS_SELECTOR, 'svg.MuiSvgIcon-root.css-1onxyik[data-testid=\"FilterAltOutlinedIcon\"]')\n",
    "\n",
    "# Wait for the SVG element to be clickable with an extended waiting time (e.g., 20 seconds)\n",
    "    svg_element = WebDriverWait(driver, 20).until(\n",
    "    EC.element_to_be_clickable(svg_locator))\n",
    "\n",
    "# Click on the SVG element\n",
    "    svg_element.click()\n",
    "\n",
    "# Replace 'your_locator_here' with the appropriate locator for the elements\n",
    "    elements_locator = (By.CSS_SELECTOR, '.MuiTypography-root.MuiTypography-body2.MuiFormControlLabel-label.css-me8ks0')\n",
    "\n",
    "# Wait for the elements to be present on the page\n",
    "    elements = WebDriverWait(driver, 20).until(\n",
    "    EC.presence_of_all_elements_located(elements_locator))\n",
    "\n",
    "# Create a list of texts excluding \"Select all\"\n",
    "    text_list = [element.text for element in elements if element.text != \"Select all\"]\n",
    "\n",
    "# Print the resulting list\n",
    "    print(text_list)\n",
    "\n",
    "\n",
    "except TimeoutException:\n",
    "    # Handle the case when OSINT link is not found\n",
    "    pass"
   ]
  },
  {
   "cell_type": "code",
   "execution_count": 112,
   "id": "eb55fb62",
   "metadata": {},
   "outputs": [],
   "source": [
    "# Simulate clicking anywhere on the page to close the dropdown\n",
    "action_chains = ActionChains(driver)\n",
    "action_chains.move_by_offset(1, 1).click().perform()"
   ]
  },
  {
   "cell_type": "code",
   "execution_count": 113,
   "id": "5dbaf30f",
   "metadata": {},
   "outputs": [
    {
     "data": {
      "text/plain": [
       "True"
      ]
     },
     "execution_count": 113,
     "metadata": {},
     "output_type": "execute_result"
    }
   ],
   "source": [
    "# Replace 'your_locator_here' with the appropriate locator for the element you want to capture\n",
    "element_locator = (By.XPATH, '/html/body/cs-ngx-bootstrap/cs-ngx-app-root/div/div/div/div/div/cs-ngx-main/div/div[2]/div/div[1]/cs-ngx-coin-cluster-info-panel')\n",
    "\n",
    "# Wait for the element to be present on the page\n",
    "element = WebDriverWait(driver, 10).until(\n",
    "    EC.presence_of_element_located(element_locator)\n",
    ")\n",
    "\n",
    "# Capture a screenshot of the element\n",
    "element.screenshot('element_screenshot.png')"
   ]
  },
  {
   "cell_type": "code",
   "execution_count": 114,
   "id": "49d23ff2",
   "metadata": {},
   "outputs": [],
   "source": [
    "driver.save_screenshot(\"element_screenshot.png\")\n",
    "img = Image.open(\"element_screenshot.png\")\n",
    "img.show()"
   ]
  },
  {
   "cell_type": "code",
   "execution_count": null,
   "id": "2d768bf2",
   "metadata": {},
   "outputs": [],
   "source": [
    "cluster_ = []\n",
    "chainalysis_name_ = []\n",
    "root_address_ = []\n",
    "balance_ = []\n",
    "sent_ = []\n",
    "received_ = []\n",
    "transfers_ = []\n",
    "withdrawals_ = []\n",
    "deposits_ = []\n",
    "addresses_ = []\n",
    "transfer_last_time_ = []\n",
    "address_list_ = []\n",
    "screenshot_ = []"
   ]
  },
  {
   "cell_type": "code",
   "execution_count": null,
   "id": "184ae936",
   "metadata": {},
   "outputs": [],
   "source": [
    "cluster_.append(cluster)\n",
    "chainalysis_name_.append(chainalysis_name)\n",
    "root_address_.append(root_address)\n",
    "addresses_.append(output_list)"
   ]
  },
  {
   "cell_type": "code",
   "execution_count": null,
   "id": "fa906659",
   "metadata": {},
   "outputs": [],
   "source": [
    "print(cluster_)\n",
    "print(chainalysis_name_)\n",
    "print(root_address_)\n",
    "print(addresses_content_list)\n",
    "print(text_list)"
   ]
  },
  {
   "cell_type": "code",
   "execution_count": null,
   "id": "bd31a157",
   "metadata": {},
   "outputs": [],
   "source": [
    "from datetime import datetime\n",
    "\n",
    "# Convert the string to a datetime object\n",
    "time_object = datetime.strptime(time_text, \"%m/%d/%Y %I:%M %p\")\n",
    "\n",
    "# Format the datetime object as a string\n",
    "formatted_time = time_object.strftime(\"%m/%d/%Y %I:%M %p\")\n",
    "\n",
    "# Append the formatted string to a list\n",
    "time_list = [formatted_time]\n",
    "\n",
    "# Print the result\n",
    "print(\"Transfer Last time:\", time_list)"
   ]
  },
  {
   "cell_type": "code",
   "execution_count": null,
   "id": "9d3f4356",
   "metadata": {},
   "outputs": [],
   "source": [
    "import re\n",
    "\n",
    "def extract_numeric_value(data_dict, key):\n",
    "    # Initialize an empty list to store the extracted values\n",
    "    result_list = []\n",
    "\n",
    "    # Extract numeric value from the specified key using regular expression\n",
    "    match = re.search(r'(\\d+\\.\\d+|\\d+)', data_dict.get(key, ''))\n",
    "\n",
    "    # Check if a match is found\n",
    "    if match:\n",
    "        # Append the extracted value to the result_list\n",
    "        result_list.append(match.group(1))\n",
    "\n",
    "    return result_list\n",
    "\n",
    "# Specify the keys for which you want to extract numeric values\n",
    "keys_to_extract = ['Balance', 'Sent', 'Received', 'Transfers', 'Withdrawals', 'Deposits', 'Addresses']\n",
    "\n",
    "# Initialize empty lists to store the extracted values\n",
    "balance_list, sent_list, received_list, transfers_list, withdrawals_list, deposits_list, addresses_list = (\n",
    "    extract_numeric_value(data_dict, key) for key in keys_to_extract\n",
    ")\n",
    "\n",
    "# Print the results\n",
    "print(\"Balance List:\", balance_list)\n",
    "print(\"Sent List:\", sent_list)\n",
    "print(\"Received List:\", received_list)\n",
    "print(\"Transfers List:\", transfers_list)\n",
    "print(\"Withdrawals List:\", withdrawals_list)\n",
    "print(\"Deposits List:\", deposits_list)\n",
    "print(\"Addresses List:\", addresses_list)\n"
   ]
  },
  {
   "cell_type": "code",
   "execution_count": null,
   "id": "9a261f3e",
   "metadata": {},
   "outputs": [],
   "source": [
    "# Join elements of text_list with a comma\n",
    "osint_source_text = ', '.join(text_list)\n",
    "\n",
    "def join_addresses_content(addresses_content_list):\n",
    "    # Check if the length is greater than one\n",
    "    if len(addresses_content_list) > 1:\n",
    "        # Join the elements with a comma and return\n",
    "        return ', '.join(addresses_content_list)\n",
    "    else:\n",
    "        # If the length is one or zero, return the element as is\n",
    "        return addresses_content_list[0] if addresses_content_list else None\n",
    "\n",
    "# Example usage:\n",
    "addresses_content_list = join_addresses_content(addresses_content_list)\n",
    "\n",
    "# Create DataFrame\n",
    "df = pd.DataFrame({\n",
    "    'Clusters列表': cluster_,\n",
    "    'Chainalysis Name': chainalysis_name_,\n",
    "    'Root address': root_address_,\n",
    "    'Balance': balance_list,\n",
    "    'Sent': sent_list,\n",
    "    'Received': received_list,\n",
    "    'Transfer': transfers_list,\n",
    "    'Withdrawals': withdrawals_list,\n",
    "    'Deposits': deposits_list,\n",
    "    'Addresses': addresses_list,\n",
    "    'Transfer Last Time': time_list,\n",
    "    'Addresses List': addresses_content_list,\n",
    "    'OSINT source': osint_source_text,\n",
    "})\n",
    "\n",
    "df"
   ]
  },
  {
   "cell_type": "code",
   "execution_count": null,
   "id": "cea11b1e",
   "metadata": {},
   "outputs": [],
   "source": [
    "df.to_excel(r'D:\\Desktop\\Ah Tim\\Web Scraping\\output.xlsx', index=False)"
   ]
  },
  {
   "cell_type": "code",
   "execution_count": null,
   "id": "b46f2789",
   "metadata": {},
   "outputs": [],
   "source": []
  },
  {
   "cell_type": "code",
   "execution_count": null,
   "id": "9ff6020c",
   "metadata": {},
   "outputs": [],
   "source": []
  },
  {
   "cell_type": "code",
   "execution_count": null,
   "id": "3ced4a3e",
   "metadata": {},
   "outputs": [],
   "source": []
  },
  {
   "cell_type": "code",
   "execution_count": null,
   "id": "0a811eda",
   "metadata": {},
   "outputs": [],
   "source": []
  },
  {
   "cell_type": "code",
   "execution_count": null,
   "id": "b08829ba",
   "metadata": {},
   "outputs": [],
   "source": []
  },
  {
   "cell_type": "code",
   "execution_count": null,
   "id": "6eecb2f9",
   "metadata": {},
   "outputs": [],
   "source": []
  },
  {
   "cell_type": "code",
   "execution_count": null,
   "id": "c4e48f62",
   "metadata": {},
   "outputs": [],
   "source": []
  },
  {
   "cell_type": "code",
   "execution_count": null,
   "id": "f682b2af",
   "metadata": {},
   "outputs": [],
   "source": []
  },
  {
   "cell_type": "code",
   "execution_count": null,
   "id": "135d85de",
   "metadata": {},
   "outputs": [],
   "source": []
  },
  {
   "cell_type": "code",
   "execution_count": null,
   "id": "039a4d90",
   "metadata": {},
   "outputs": [],
   "source": []
  },
  {
   "cell_type": "code",
   "execution_count": null,
   "id": "99dbde6c",
   "metadata": {},
   "outputs": [],
   "source": []
  },
  {
   "cell_type": "code",
   "execution_count": null,
   "id": "c587515e",
   "metadata": {},
   "outputs": [],
   "source": []
  }
 ],
 "metadata": {
  "kernelspec": {
   "display_name": "Python 3",
   "language": "python",
   "name": "python3"
  },
  "language_info": {
   "codemirror_mode": {
    "name": "ipython",
    "version": 3
   },
   "file_extension": ".py",
   "mimetype": "text/x-python",
   "name": "python",
   "nbconvert_exporter": "python",
   "pygments_lexer": "ipython3",
   "version": "3.8.8"
  }
 },
 "nbformat": 4,
 "nbformat_minor": 5
}
